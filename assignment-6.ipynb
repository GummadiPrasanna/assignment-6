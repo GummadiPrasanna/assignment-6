{
 "cells": [
  {
   "cell_type": "code",
   "execution_count": null,
   "id": "9badb7f8",
   "metadata": {},
   "outputs": [],
   "source": [
    "6. Create a list(friend_names) with your friends names(atleaste 10 names)?\n",
    "print all names with in loop \n",
    "Expected Output: my friend name is \"ravi\"\n",
    "\t\t     my friend name is \"shanker\""
   ]
  },
  {
   "cell_type": "code",
   "execution_count": 28,
   "id": "eecba7c6",
   "metadata": {},
   "outputs": [
    {
     "name": "stdout",
     "output_type": "stream",
     "text": [
      "my friend name is mamatha\n",
      "my friend name is meghana\n",
      "my friend name is siromani\n",
      "my friend name is pavani\n",
      "my friend name is ganga\n",
      "my friend name is bhavani\n",
      "my friend name is sravani\n",
      "my friend name is bhargavi\n",
      "my friend name is chandrika\n",
      "my friend name is sujatha\n"
     ]
    }
   ],
   "source": [
    "friend_name=[\"mamatha\",\"meghana\",\"siromani\",\"pavani\",\"ganga\",\"bhavani\",\"sravani\",\"bhargavi\",\"chandrika\",\"sujatha\"]\n",
    "for p in friend_name:\n",
    "    print(\"my friend name is\",p)    "
   ]
  },
  {
   "cell_type": "code",
   "execution_count": null,
   "id": "af697128",
   "metadata": {},
   "outputs": [],
   "source": [
    "7. Create a list(family_members) with your family members names(atleaste 10 names)?\n",
    "print all names with in loop "
   ]
  },
  {
   "cell_type": "code",
   "execution_count": 4,
   "id": "15c6cc2a",
   "metadata": {},
   "outputs": [
    {
     "name": "stdout",
     "output_type": "stream",
     "text": [
      "my family member gopal\n",
      "my family member veeraswami\n",
      "my family member venkateswaramma\n",
      "my family member srinivasarao\n",
      "my family member sujatha\n",
      "my family member sravani\n",
      "my family member chitra\n",
      "my family member narasamma\n",
      "my family member papamma\n",
      "my family member subbarao\n",
      "my family member anitha\n"
     ]
    }
   ],
   "source": [
    "family_members=[\"gopal\",\"veeraswami\",\"venkateswaramma\",\"srinivasarao\",\"sujatha\",\"sravani\",\"chitra\",\"narasamma\",\"papamma\",\"subbarao\",\"anitha\"]\n",
    "for s in family_members:\n",
    "    print(\"my family member\",s)"
   ]
  },
  {
   "cell_type": "code",
   "execution_count": null,
   "id": "135a6458",
   "metadata": {},
   "outputs": [],
   "source": [
    "8. Create a list(food_names) with your favorite food names(atleaste 10 names only veg)?\n",
    "print all names with in loop "
   ]
  },
  {
   "cell_type": "code",
   "execution_count": 3,
   "id": "110560a5",
   "metadata": {},
   "outputs": [
    {
     "name": "stdout",
     "output_type": "stream",
     "text": [
      "my favorite food name is lemonrice\n",
      "my favorite food name is vegtablerice\n",
      "my favorite food name is brinjalcurry\n",
      "my favorite food name is tamotorice\n",
      "my favorite food name is zeerarice\n",
      "my favorite food name is potatocurry\n",
      "my favorite food name is ladies finger fry\n"
     ]
    }
   ],
   "source": [
    "food_names=[\"lemonrice\",\"vegtablerice\",\"brinjalcurry\",\"tamotorice\",\"zeerarice\",\"potatocurry\",\"ladies finger fry\"]\n",
    "for d in food_names:\n",
    "    print(\"my favorite food name is\",d)"
   ]
  },
  {
   "cell_type": "code",
   "execution_count": null,
   "id": "cdaa5cb5",
   "metadata": {},
   "outputs": [],
   "source": [
    "9. Create a tuple(food_names) with your favorite food names(atleaste 10 names only nonveg)?\n",
    "print all names with in loop "
   ]
  },
  {
   "cell_type": "code",
   "execution_count": 2,
   "id": "b54cfad9",
   "metadata": {},
   "outputs": [
    {
     "name": "stdout",
     "output_type": "stream",
     "text": [
      "my favorite food name is chiken curry\n",
      "my favorite food name is chiken fry\n",
      "my favorite food name is chiken biriyani\n",
      "my favorite food name is chiken fry biriyani\n",
      "my favorite food name is fish curry\n",
      "my favorite food name is fishfry\n",
      "my favorite food name is egg curry\n",
      "my favorite food name is egg fried rice\n",
      "my favorite food name is chiken fried rice\n"
     ]
    }
   ],
   "source": [
    "food_names=(\"chiken curry\",\"chiken fry\",\"chiken biriyani\",\"chiken fry biriyani\",\"fish curry\",\"fishfry\",\"egg curry\",\"egg fried rice\",\"chiken fried rice\")\n",
    "for g in food_names:\n",
    "    print(\"my favorite food name is\",g)"
   ]
  },
  {
   "cell_type": "code",
   "execution_count": null,
   "id": "4498ac91",
   "metadata": {},
   "outputs": [],
   "source": [
    "10. Create a set(colour_names) with your colour names(atleaste 10 names)?\n",
    "print all names with in loop "
   ]
  },
  {
   "cell_type": "code",
   "execution_count": 1,
   "id": "93a2992d",
   "metadata": {},
   "outputs": [
    {
     "name": "stdout",
     "output_type": "stream",
     "text": [
      "colour name is green\n",
      "colour name is white\n",
      "colour name is yellow\n",
      "colour name is purple\n",
      "colour name is pink\n",
      "colour name is blue\n",
      "colour name is black\n",
      "colour name is skyblue\n",
      "colour name is orange\n",
      "colour name is red\n"
     ]
    }
   ],
   "source": [
    "colour_names={\"red\",\"blue\",\"green\",\"yellow\",\"pink\",\"black\",\"white\",\"orange\",\"skyblue\",\"purple\"}\n",
    "for c in colour_names:\n",
    "    print(\"colour name is\",c)"
   ]
  },
  {
   "cell_type": "code",
   "execution_count": null,
   "id": "a9277cce",
   "metadata": {},
   "outputs": [],
   "source": [
    "11. Create a list(month_names) with your month names(atleaste 10 names)?\n",
    "print all names with in loop \n"
   ]
  },
  {
   "cell_type": "code",
   "execution_count": 5,
   "id": "c0bb3eb5",
   "metadata": {},
   "outputs": [
    {
     "name": "stdout",
     "output_type": "stream",
     "text": [
      "month name is january\n",
      "month name is february\n",
      "month name is march\n",
      "month name is april\n",
      "month name is may\n",
      "month name is june\n",
      "month name is july\n",
      "month name is august\n",
      "month name is september\n",
      "month name is october\n",
      "month name is november\n",
      "month name is december\n"
     ]
    }
   ],
   "source": [
    "month_names=(\"january\",\"february\",\"march\",\"april\",\"may\",\"june\",\"july\",\"august\",\"september\",\"october\",\"november\",\"december\")\n",
    "for m in month_names:\n",
    "    print(\"month name is\",m)"
   ]
  },
  {
   "cell_type": "code",
   "execution_count": null,
   "id": "e1ca2827",
   "metadata": {},
   "outputs": [],
   "source": [
    "12. print 9th table (1 to 90)"
   ]
  },
  {
   "cell_type": "code",
   "execution_count": 26,
   "id": "ee3081ec",
   "metadata": {},
   "outputs": [
    {
     "name": "stdout",
     "output_type": "stream",
     "text": [
      "0\n",
      "9\n",
      "18\n",
      "27\n",
      "36\n",
      "45\n",
      "54\n",
      "63\n",
      "72\n",
      "81\n",
      "90\n"
     ]
    }
   ],
   "source": [
    "range(1,90,9)\n",
    "for p in range(0,91,9):\n",
    "    print(p)\n",
    " "
   ]
  },
  {
   "cell_type": "code",
   "execution_count": null,
   "id": "6c67940d",
   "metadata": {},
   "outputs": [],
   "source": [
    "13. print(12th table (1 to 120)"
   ]
  },
  {
   "cell_type": "code",
   "execution_count": 27,
   "id": "b549ace4",
   "metadata": {},
   "outputs": [
    {
     "name": "stdout",
     "output_type": "stream",
     "text": [
      "0\n",
      "12\n",
      "24\n",
      "36\n",
      "48\n",
      "60\n",
      "72\n",
      "84\n",
      "96\n",
      "108\n",
      "120\n"
     ]
    }
   ],
   "source": [
    "range(1,120,12)\n",
    "for p in range(0,121,12):\n",
    "    print(p)"
   ]
  },
  {
   "cell_type": "code",
   "execution_count": null,
   "id": "22481e1b",
   "metadata": {},
   "outputs": [],
   "source": []
  }
 ],
 "metadata": {
  "kernelspec": {
   "display_name": "Python 3 (ipykernel)",
   "language": "python",
   "name": "python3"
  },
  "language_info": {
   "codemirror_mode": {
    "name": "ipython",
    "version": 3
   },
   "file_extension": ".py",
   "mimetype": "text/x-python",
   "name": "python",
   "nbconvert_exporter": "python",
   "pygments_lexer": "ipython3",
   "version": "3.10.9"
  }
 },
 "nbformat": 4,
 "nbformat_minor": 5
}
